{
 "cells": [
  {
   "cell_type": "code",
   "execution_count": 34,
   "id": "82eec399",
   "metadata": {},
   "outputs": [],
   "source": [
    "import logging\n",
    "import os\n",
    "import subprocess\n",
    "import yaml\n",
    "import pandas as pd\n",
    "import datetime \n",
    "import gc\n",
    "import re"
   ]
  },
  {
   "cell_type": "markdown",
   "id": "94b4876d",
   "metadata": {},
   "source": [
    "### DATA READING"
   ]
  },
  {
   "cell_type": "code",
   "execution_count": 35,
   "id": "22ba553f",
   "metadata": {},
   "outputs": [
    {
     "data": {
      "text/plain": [
       "2325197868"
      ]
     },
     "execution_count": 35,
     "metadata": {},
     "output_type": "execute_result"
    }
   ],
   "source": [
    "#Size of the file\n",
    "os.path.getsize(\"/Users/meghnaijjapureddy/Downloads/archive (6)/allRNA_112RNA_corr_by6ss.csv\")"
   ]
  },
  {
   "cell_type": "code",
   "execution_count": 36,
   "id": "6eebd691",
   "metadata": {},
   "outputs": [
    {
     "name": "stdout",
     "output_type": "stream",
     "text": [
      "Read csv with dask:  0.11784076690673828 sec\n"
     ]
    }
   ],
   "source": [
    "## Reading File using Dask\n",
    "\n",
    "import time\n",
    "from dask import dataframe as dd\n",
    "start = time.time()\n",
    "dask_df = dd.read_csv('allRNA_112RNA_corr_by6ss.csv')\n",
    "end = time.time()\n",
    "print(\"Read csv with dask: \",(end-start),\"sec\")"
   ]
  },
  {
   "cell_type": "code",
   "execution_count": 37,
   "id": "d2741b3b",
   "metadata": {
    "scrolled": true
   },
   "outputs": [
    {
     "name": "stdout",
     "output_type": "stream",
     "text": [
      "Read csv with pandas:  84.68119287490845 sec\n"
     ]
    }
   ],
   "source": [
    "## Reading file using Pandas\n",
    "\n",
    "import pandas as pd\n",
    "start = time.time()\n",
    "df = pd.read_csv('allRNA_112RNA_corr_by6ss.csv')\n",
    "end = time.time()\n",
    "print(\"Read csv with pandas: \",(end-start),\"sec\")"
   ]
  },
  {
   "cell_type": "markdown",
   "id": "5c23efd3",
   "metadata": {},
   "source": [
    "#### Dask is better than Pandas, Modin and Ray, with the least reading time"
   ]
  },
  {
   "cell_type": "markdown",
   "id": "108df067",
   "metadata": {},
   "source": [
    "### DATA CLEANING"
   ]
  },
  {
   "cell_type": "code",
   "execution_count": 38,
   "id": "dff40e40",
   "metadata": {},
   "outputs": [],
   "source": [
    "from dask import dataframe as dd\n",
    "df = dd.read_csv(\"/Users/meghnaijjapureddy/Downloads/archive (6)/allRNA_112RNA_corr_by6ss.csv\")"
   ]
  },
  {
   "cell_type": "code",
   "execution_count": 39,
   "id": "f989b135",
   "metadata": {},
   "outputs": [
    {
     "name": "stdout",
     "output_type": "stream",
     "text": [
      "<class 'dask.dataframe.core.DataFrame'>\n",
      "Columns: 9 entries, Unnamed: 0 to Bonf_p.value\n",
      "dtypes: object(3), float64(5), int64(1)"
     ]
    }
   ],
   "source": [
    "df.info()"
   ]
  },
  {
   "cell_type": "code",
   "execution_count": 40,
   "id": "bb20b1fc",
   "metadata": {},
   "outputs": [
    {
     "data": {
      "text/html": [
       "<div>\n",
       "<style scoped>\n",
       "    .dataframe tbody tr th:only-of-type {\n",
       "        vertical-align: middle;\n",
       "    }\n",
       "\n",
       "    .dataframe tbody tr th {\n",
       "        vertical-align: top;\n",
       "    }\n",
       "\n",
       "    .dataframe thead th {\n",
       "        text-align: right;\n",
       "    }\n",
       "</style>\n",
       "<table border=\"1\" class=\"dataframe\">\n",
       "  <thead>\n",
       "    <tr style=\"text-align: right;\">\n",
       "      <th></th>\n",
       "      <th>Unnamed: 0</th>\n",
       "      <th>sample_size</th>\n",
       "      <th>RNA1</th>\n",
       "      <th>RNA2</th>\n",
       "      <th>corr.coeff</th>\n",
       "      <th>t_stats</th>\n",
       "      <th>p.value</th>\n",
       "      <th>BH_p.value</th>\n",
       "      <th>Bonf_p.value</th>\n",
       "    </tr>\n",
       "  </thead>\n",
       "  <tbody>\n",
       "    <tr>\n",
       "      <th>0</th>\n",
       "      <td>ENSG00000121410_A1BG</td>\n",
       "      <td>4000</td>\n",
       "      <td>ENSG00000117091_CD48</td>\n",
       "      <td>ENSG00000121410_A1BG</td>\n",
       "      <td>-0.003443</td>\n",
       "      <td>0.217705</td>\n",
       "      <td>0.827670</td>\n",
       "      <td>0.912140</td>\n",
       "      <td>1.0</td>\n",
       "    </tr>\n",
       "    <tr>\n",
       "      <th>1</th>\n",
       "      <td>ENSG00000268895_A1BG-AS1</td>\n",
       "      <td>4000</td>\n",
       "      <td>ENSG00000117091_CD48</td>\n",
       "      <td>ENSG00000268895_A1BG-AS1</td>\n",
       "      <td>-0.006397</td>\n",
       "      <td>0.404485</td>\n",
       "      <td>0.685877</td>\n",
       "      <td>0.829000</td>\n",
       "      <td>1.0</td>\n",
       "    </tr>\n",
       "    <tr>\n",
       "      <th>2</th>\n",
       "      <td>ENSG00000175899_A2M</td>\n",
       "      <td>4000</td>\n",
       "      <td>ENSG00000117091_CD48</td>\n",
       "      <td>ENSG00000175899_A2M</td>\n",
       "      <td>0.000813</td>\n",
       "      <td>0.051385</td>\n",
       "      <td>0.959021</td>\n",
       "      <td>0.981338</td>\n",
       "      <td>1.0</td>\n",
       "    </tr>\n",
       "    <tr>\n",
       "      <th>3</th>\n",
       "      <td>ENSG00000245105_A2M-AS1</td>\n",
       "      <td>4000</td>\n",
       "      <td>ENSG00000117091_CD48</td>\n",
       "      <td>ENSG00000245105_A2M-AS1</td>\n",
       "      <td>-0.009373</td>\n",
       "      <td>0.592686</td>\n",
       "      <td>0.553425</td>\n",
       "      <td>0.735474</td>\n",
       "      <td>1.0</td>\n",
       "    </tr>\n",
       "    <tr>\n",
       "      <th>4</th>\n",
       "      <td>ENSG00000166535_A2ML1</td>\n",
       "      <td>4000</td>\n",
       "      <td>ENSG00000117091_CD48</td>\n",
       "      <td>ENSG00000166535_A2ML1</td>\n",
       "      <td>NaN</td>\n",
       "      <td>NaN</td>\n",
       "      <td>NaN</td>\n",
       "      <td>NaN</td>\n",
       "      <td>NaN</td>\n",
       "    </tr>\n",
       "  </tbody>\n",
       "</table>\n",
       "</div>"
      ],
      "text/plain": [
       "                 Unnamed: 0  sample_size                  RNA1  \\\n",
       "0      ENSG00000121410_A1BG         4000  ENSG00000117091_CD48   \n",
       "1  ENSG00000268895_A1BG-AS1         4000  ENSG00000117091_CD48   \n",
       "2       ENSG00000175899_A2M         4000  ENSG00000117091_CD48   \n",
       "3   ENSG00000245105_A2M-AS1         4000  ENSG00000117091_CD48   \n",
       "4     ENSG00000166535_A2ML1         4000  ENSG00000117091_CD48   \n",
       "\n",
       "                       RNA2  corr.coeff   t_stats   p.value  BH_p.value  \\\n",
       "0      ENSG00000121410_A1BG   -0.003443  0.217705  0.827670    0.912140   \n",
       "1  ENSG00000268895_A1BG-AS1   -0.006397  0.404485  0.685877    0.829000   \n",
       "2       ENSG00000175899_A2M    0.000813  0.051385  0.959021    0.981338   \n",
       "3   ENSG00000245105_A2M-AS1   -0.009373  0.592686  0.553425    0.735474   \n",
       "4     ENSG00000166535_A2ML1         NaN       NaN       NaN         NaN   \n",
       "\n",
       "   Bonf_p.value  \n",
       "0           1.0  \n",
       "1           1.0  \n",
       "2           1.0  \n",
       "3           1.0  \n",
       "4           NaN  "
      ]
     },
     "execution_count": 40,
     "metadata": {},
     "output_type": "execute_result"
    }
   ],
   "source": [
    "df.head()"
   ]
  },
  {
   "cell_type": "code",
   "execution_count": 41,
   "id": "32977316",
   "metadata": {},
   "outputs": [
    {
     "name": "stdout",
     "output_type": "stream",
     "text": [
      "Number of null values in 'column_name': 0\n"
     ]
    }
   ],
   "source": [
    "null_values = df['RNA1'].isnull()\n",
    "null_count = null_values.sum().compute()\n",
    "\n",
    "print(f\"Number of null values in 'column_name': {null_count}\")"
   ]
  },
  {
   "cell_type": "code",
   "execution_count": 42,
   "id": "652dd12b",
   "metadata": {},
   "outputs": [
    {
     "name": "stdout",
     "output_type": "stream",
     "text": [
      "Number of null values in 'column_name': 0\n"
     ]
    }
   ],
   "source": [
    "\n",
    "null_values2 = df['RNA2'].isnull()\n",
    "null_count2 = null_values2.sum().compute()\n",
    "\n",
    "print(f\"Number of null values in 'column_name': {null_count2}\")"
   ]
  },
  {
   "cell_type": "code",
   "execution_count": 43,
   "id": "31cfb79f",
   "metadata": {},
   "outputs": [
    {
     "name": "stdout",
     "output_type": "stream",
     "text": [
      "Number of null values in 'column_name': 73564\n"
     ]
    }
   ],
   "source": [
    "\n",
    "null_values3 = df['corr.coeff'].isnull()\n",
    "null_count3 = null_values3.sum().compute()\n",
    "\n",
    "print(f\"Number of null values in 'column_name': {null_count3}\")"
   ]
  },
  {
   "cell_type": "code",
   "execution_count": 44,
   "id": "332016e3",
   "metadata": {},
   "outputs": [
    {
     "name": "stdout",
     "output_type": "stream",
     "text": [
      "Number of null values in 'column_name': 73564\n"
     ]
    }
   ],
   "source": [
    "\n",
    "null_values4 = df['t_stats'].isnull()\n",
    "null_count4 = null_values4.sum().compute()\n",
    "\n",
    "print(f\"Number of null values in 'column_name': {null_count4}\")"
   ]
  },
  {
   "cell_type": "code",
   "execution_count": 45,
   "id": "4da9edb7",
   "metadata": {},
   "outputs": [
    {
     "name": "stdout",
     "output_type": "stream",
     "text": [
      "Number of null values in 'column_name': 73564\n"
     ]
    }
   ],
   "source": [
    "\n",
    "null_values5 = df['p.value'].isnull()\n",
    "null_count5 = null_values5.sum().compute()\n",
    "\n",
    "print(f\"Number of null values in 'column_name': {null_count5}\")"
   ]
  },
  {
   "cell_type": "code",
   "execution_count": 46,
   "id": "73a2789e",
   "metadata": {},
   "outputs": [
    {
     "name": "stdout",
     "output_type": "stream",
     "text": [
      "Number of null values in 'column_name': 73564\n"
     ]
    }
   ],
   "source": [
    "\n",
    "null_values6 = df['BH_p.value'].isnull()\n",
    "null_count6 = null_values6.sum().compute()\n",
    "\n",
    "print(f\"Number of null values in 'column_name': {null_count6}\")"
   ]
  },
  {
   "cell_type": "code",
   "execution_count": 47,
   "id": "93f8c4da",
   "metadata": {},
   "outputs": [
    {
     "name": "stdout",
     "output_type": "stream",
     "text": [
      "Number of null values in 'column_name': 73564\n"
     ]
    }
   ],
   "source": [
    "null_values7 = df['Bonf_p.value'].isnull()\n",
    "null_count7 = null_values7.sum().compute()\n",
    "\n",
    "print(f\"Number of null values in 'column_name': {null_count7}\")\n"
   ]
  },
  {
   "cell_type": "code",
   "execution_count": 48,
   "id": "879824fd",
   "metadata": {},
   "outputs": [
    {
     "data": {
      "text/plain": [
       "9"
      ]
     },
     "execution_count": 48,
     "metadata": {},
     "output_type": "execute_result"
    }
   ],
   "source": [
    "len(df.columns)"
   ]
  },
  {
   "cell_type": "code",
   "execution_count": 49,
   "id": "5cef5371",
   "metadata": {},
   "outputs": [
    {
     "data": {
      "text/plain": [
       "14256000"
      ]
     },
     "execution_count": 49,
     "metadata": {},
     "output_type": "execute_result"
    }
   ],
   "source": [
    "len(df.index)"
   ]
  },
  {
   "cell_type": "code",
   "execution_count": 50,
   "id": "737dec7f",
   "metadata": {},
   "outputs": [
    {
     "name": "stdout",
     "output_type": "stream",
     "text": [
      "Unnamed: 0       object\n",
      "sample_size       int64\n",
      "RNA1             object\n",
      "RNA2             object\n",
      "corr.coeff      float64\n",
      "t_stats         float64\n",
      "p.value         float64\n",
      "BH_p.value      float64\n",
      "Bonf_p.value    float64\n",
      "dtype: object\n"
     ]
    },
    {
     "data": {
      "text/plain": [
       "14256000"
      ]
     },
     "execution_count": 50,
     "metadata": {},
     "output_type": "execute_result"
    }
   ],
   "source": [
    "df.head()\n",
    "print(df.dtypes)\n",
    "df[\"RNA1\"].dropna()\n",
    "len(df.index)\n",
    "df['corr.coeff'].dropna()\n",
    "len(df.index)"
   ]
  },
  {
   "cell_type": "code",
   "execution_count": 51,
   "id": "68c4db22",
   "metadata": {},
   "outputs": [
    {
     "name": "stderr",
     "output_type": "stream",
     "text": [
      "/var/folders/6w/ms2d338115sct6n4yjsbtm_80000gn/T/ipykernel_27615/418848558.py:2: FutureWarning: The default value of regex will change from True to False in a future version.\n",
      "  df.columns=df.columns.str.replace('[#,@,&]','')\n"
     ]
    }
   ],
   "source": [
    "# remove special character\n",
    "df.columns=df.columns.str.replace('[#,@,&]','')"
   ]
  },
  {
   "cell_type": "code",
   "execution_count": 52,
   "id": "6f31492f",
   "metadata": {},
   "outputs": [],
   "source": [
    "#To remove white space from columns\n",
    "df.columns = df.columns.str.replace(' ', '')"
   ]
  },
  {
   "cell_type": "code",
   "execution_count": 53,
   "id": "791e503d",
   "metadata": {},
   "outputs": [
    {
     "data": {
      "text/plain": [
       "Index(['Unnamed:0', 'sample_size', 'RNA1', 'RNA2', 'corr.coeff', 't_stats',\n",
       "       'p.value', 'BH_p.value', 'Bonf_p.value'],\n",
       "      dtype='object')"
      ]
     },
     "execution_count": 53,
     "metadata": {},
     "output_type": "execute_result"
    }
   ],
   "source": [
    "data=df.columns\n",
    "data"
   ]
  },
  {
   "cell_type": "markdown",
   "id": "e5183660",
   "metadata": {},
   "source": [
    "### VALIDATION"
   ]
  },
  {
   "cell_type": "code",
   "execution_count": 70,
   "id": "46728636",
   "metadata": {},
   "outputs": [
    {
     "name": "stdout",
     "output_type": "stream",
     "text": [
      "Overwriting utility.py\n"
     ]
    }
   ],
   "source": [
    "%%writefile utility.py\n",
    "import logging\n",
    "import os\n",
    "import subprocess\n",
    "import yaml\n",
    "import pandas as pd\n",
    "import datetime \n",
    "import gc\n",
    "import re\n",
    "\n",
    "# Reading File  \n",
    "\n",
    "def read_config_file(filepath):\n",
    "    with open(filepath, 'r') as stream:\n",
    "        try:\n",
    "            return yaml.safe_load(stream)\n",
    "        except yaml.YAMLError as exc:\n",
    "            logging.error(exc)\n",
    "\n",
    "\n",
    "def replacer(string, char):\n",
    "    pattern = char + '{2,}'\n",
    "    string = re.sub(pattern, char, string) \n",
    "    return string\n",
    "\n",
    "def matching(df,config_data):\n",
    "    expected_col = list(config_data['columns'])\n",
    "    if len(df.columns) == len(expected_col) and list(expected_col) == list(df.columns):\n",
    "        print(\"column name and column length validation passed\")\n",
    "        return 1\n",
    "    else:\n",
    "        print(\"column name and column length validation failed\")\n",
    "        mismatched_columns_file = list(set(df.columns).difference(expected_col))\n",
    "        print(\"Following File columns are not in the YAML file\",mismatched_columns_file)\n",
    "        missing_YAML_file = list(set(expected_col).difference(df.columns))\n",
    "        print(\"Following YAML columns are not in the file uploaded\",missing_YAML_file)\n",
    "        logging.info(f'df columns: {df.columns}')\n",
    "        logging.info(f'expected columns: {expected_col}')\n",
    "        return 0\n"
   ]
  },
  {
   "cell_type": "code",
   "execution_count": 76,
   "id": "76a800d6",
   "metadata": {},
   "outputs": [
    {
     "name": "stdout",
     "output_type": "stream",
     "text": [
      "Overwriting store.yaml\n"
     ]
    }
   ],
   "source": [
    "%%writefile store.yaml\n",
    "file_type: csv\n",
    "dataset_name: file\n",
    "file_name: allRNA_112RNA_corr_by6ss\n",
    "table_name: edsurv\n",
    "inbound_delimiter: \",\"\n",
    "outbound_delimiter: \"|\"\n",
    "skip_leading_rows: 1\n",
    "columns: \n",
    "    - unnamed_0\n",
    "    - unnamed_1\n",
    "    - sample_size\n",
    "    - RNA1\n",
    "    - RNA2\n",
    "    - corr_coeff\n",
    "    - t_stats\n",
    "    - p_value\n",
    "    - bh_p_value\n",
    "    - bonf_p_value"
   ]
  },
  {
   "cell_type": "code",
   "execution_count": 77,
   "id": "eba067ba",
   "metadata": {},
   "outputs": [],
   "source": [
    "# Reading config file\n",
    "import utility as util\n",
    "config_data = util.read_config_file(\"store.yaml\")"
   ]
  },
  {
   "cell_type": "code",
   "execution_count": 78,
   "id": "cee89014",
   "metadata": {},
   "outputs": [
    {
     "data": {
      "text/plain": [
       "{'file_type': 'csv',\n",
       " 'dataset_name': 'file',\n",
       " 'file_name': 'allRNA_112RNA_corr_by6ss',\n",
       " 'table_name': 'edsurv',\n",
       " 'inbound_delimiter': ',',\n",
       " 'outbound_delimiter': '|',\n",
       " 'skip_leading_rows': 1,\n",
       " 'columns': ['unnamed_0',\n",
       "  'unnamed_1',\n",
       "  'sample_size',\n",
       "  'RNA1',\n",
       "  'RNA2',\n",
       "  'corr_coeff',\n",
       "  't_stats',\n",
       "  'p_value',\n",
       "  'bh_p_value',\n",
       "  'bonf_p_value']}"
      ]
     },
     "execution_count": 78,
     "metadata": {},
     "output_type": "execute_result"
    }
   ],
   "source": [
    "# data of config file\n",
    "config_data"
   ]
  },
  {
   "cell_type": "code",
   "execution_count": 79,
   "id": "e067e6e3",
   "metadata": {},
   "outputs": [
    {
     "data": {
      "text/html": [
       "<div>\n",
       "<style scoped>\n",
       "    .dataframe tbody tr th:only-of-type {\n",
       "        vertical-align: middle;\n",
       "    }\n",
       "\n",
       "    .dataframe tbody tr th {\n",
       "        vertical-align: top;\n",
       "    }\n",
       "\n",
       "    .dataframe thead th {\n",
       "        text-align: right;\n",
       "    }\n",
       "</style>\n",
       "<table border=\"1\" class=\"dataframe\">\n",
       "  <thead>\n",
       "    <tr style=\"text-align: right;\">\n",
       "      <th></th>\n",
       "      <th>Unnamed: 0</th>\n",
       "      <th>sample_size</th>\n",
       "      <th>RNA1</th>\n",
       "      <th>RNA2</th>\n",
       "      <th>corr.coeff</th>\n",
       "      <th>t_stats</th>\n",
       "      <th>p.value</th>\n",
       "      <th>BH_p.value</th>\n",
       "      <th>Bonf_p.value</th>\n",
       "    </tr>\n",
       "  </thead>\n",
       "  <tbody>\n",
       "    <tr>\n",
       "      <th>0</th>\n",
       "      <td>ENSG00000121410_A1BG</td>\n",
       "      <td>4000</td>\n",
       "      <td>ENSG00000117091_CD48</td>\n",
       "      <td>ENSG00000121410_A1BG</td>\n",
       "      <td>-0.003443</td>\n",
       "      <td>0.217705</td>\n",
       "      <td>0.827670</td>\n",
       "      <td>0.912140</td>\n",
       "      <td>1.0</td>\n",
       "    </tr>\n",
       "    <tr>\n",
       "      <th>1</th>\n",
       "      <td>ENSG00000268895_A1BG-AS1</td>\n",
       "      <td>4000</td>\n",
       "      <td>ENSG00000117091_CD48</td>\n",
       "      <td>ENSG00000268895_A1BG-AS1</td>\n",
       "      <td>-0.006397</td>\n",
       "      <td>0.404485</td>\n",
       "      <td>0.685877</td>\n",
       "      <td>0.829000</td>\n",
       "      <td>1.0</td>\n",
       "    </tr>\n",
       "    <tr>\n",
       "      <th>2</th>\n",
       "      <td>ENSG00000175899_A2M</td>\n",
       "      <td>4000</td>\n",
       "      <td>ENSG00000117091_CD48</td>\n",
       "      <td>ENSG00000175899_A2M</td>\n",
       "      <td>0.000813</td>\n",
       "      <td>0.051385</td>\n",
       "      <td>0.959021</td>\n",
       "      <td>0.981338</td>\n",
       "      <td>1.0</td>\n",
       "    </tr>\n",
       "    <tr>\n",
       "      <th>3</th>\n",
       "      <td>ENSG00000245105_A2M-AS1</td>\n",
       "      <td>4000</td>\n",
       "      <td>ENSG00000117091_CD48</td>\n",
       "      <td>ENSG00000245105_A2M-AS1</td>\n",
       "      <td>-0.009373</td>\n",
       "      <td>0.592686</td>\n",
       "      <td>0.553425</td>\n",
       "      <td>0.735474</td>\n",
       "      <td>1.0</td>\n",
       "    </tr>\n",
       "    <tr>\n",
       "      <th>4</th>\n",
       "      <td>ENSG00000166535_A2ML1</td>\n",
       "      <td>4000</td>\n",
       "      <td>ENSG00000117091_CD48</td>\n",
       "      <td>ENSG00000166535_A2ML1</td>\n",
       "      <td>NaN</td>\n",
       "      <td>NaN</td>\n",
       "      <td>NaN</td>\n",
       "      <td>NaN</td>\n",
       "      <td>NaN</td>\n",
       "    </tr>\n",
       "  </tbody>\n",
       "</table>\n",
       "</div>"
      ],
      "text/plain": [
       "                 Unnamed: 0  sample_size                  RNA1  \\\n",
       "0      ENSG00000121410_A1BG         4000  ENSG00000117091_CD48   \n",
       "1  ENSG00000268895_A1BG-AS1         4000  ENSG00000117091_CD48   \n",
       "2       ENSG00000175899_A2M         4000  ENSG00000117091_CD48   \n",
       "3   ENSG00000245105_A2M-AS1         4000  ENSG00000117091_CD48   \n",
       "4     ENSG00000166535_A2ML1         4000  ENSG00000117091_CD48   \n",
       "\n",
       "                       RNA2  corr.coeff   t_stats   p.value  BH_p.value  \\\n",
       "0      ENSG00000121410_A1BG   -0.003443  0.217705  0.827670    0.912140   \n",
       "1  ENSG00000268895_A1BG-AS1   -0.006397  0.404485  0.685877    0.829000   \n",
       "2       ENSG00000175899_A2M    0.000813  0.051385  0.959021    0.981338   \n",
       "3   ENSG00000245105_A2M-AS1   -0.009373  0.592686  0.553425    0.735474   \n",
       "4     ENSG00000166535_A2ML1         NaN       NaN       NaN         NaN   \n",
       "\n",
       "   Bonf_p.value  \n",
       "0           1.0  \n",
       "1           1.0  \n",
       "2           1.0  \n",
       "3           1.0  \n",
       "4           NaN  "
      ]
     },
     "execution_count": 79,
     "metadata": {},
     "output_type": "execute_result"
    }
   ],
   "source": [
    "# Reading process of the file using Dask\n",
    "from dask import dataframe as dd\n",
    "df_sample = dd.read_csv('/Users/meghnaijjapureddy/Downloads/archive (6)/allRNA_112RNA_corr_by6ss.csv',delimiter=',')\n",
    "df_sample.head()"
   ]
  },
  {
   "cell_type": "code",
   "execution_count": 80,
   "id": "a0c2b08f",
   "metadata": {},
   "outputs": [],
   "source": [
    "#Reading the file using config file\n",
    "file_type = config_data['file_type']\n",
    "source_file = \"/Users/meghnaijjapureddy/Downloads/archive (6)/\" + config_data['file_name'] + f'.{file_type}'"
   ]
  },
  {
   "cell_type": "code",
   "execution_count": 81,
   "id": "26fbfcbc",
   "metadata": {},
   "outputs": [
    {
     "name": "stderr",
     "output_type": "stream",
     "text": [
      "/var/folders/6w/ms2d338115sct6n4yjsbtm_80000gn/T/ipykernel_27615/3968394673.py:2: FutureWarning: In a future version of pandas all arguments of read_csv except for the argument 'filepath_or_buffer' will be keyword-only.\n",
      "  df = pd.read_csv(source_file,config_data['inbound_delimiter'])\n"
     ]
    },
    {
     "data": {
      "text/html": [
       "<div>\n",
       "<style scoped>\n",
       "    .dataframe tbody tr th:only-of-type {\n",
       "        vertical-align: middle;\n",
       "    }\n",
       "\n",
       "    .dataframe tbody tr th {\n",
       "        vertical-align: top;\n",
       "    }\n",
       "\n",
       "    .dataframe thead th {\n",
       "        text-align: right;\n",
       "    }\n",
       "</style>\n",
       "<table border=\"1\" class=\"dataframe\">\n",
       "  <thead>\n",
       "    <tr style=\"text-align: right;\">\n",
       "      <th></th>\n",
       "      <th>Unnamed: 0</th>\n",
       "      <th>sample_size</th>\n",
       "      <th>RNA1</th>\n",
       "      <th>RNA2</th>\n",
       "      <th>corr.coeff</th>\n",
       "      <th>t_stats</th>\n",
       "      <th>p.value</th>\n",
       "      <th>BH_p.value</th>\n",
       "      <th>Bonf_p.value</th>\n",
       "    </tr>\n",
       "  </thead>\n",
       "  <tbody>\n",
       "    <tr>\n",
       "      <th>0</th>\n",
       "      <td>ENSG00000121410_A1BG</td>\n",
       "      <td>4000</td>\n",
       "      <td>ENSG00000117091_CD48</td>\n",
       "      <td>ENSG00000121410_A1BG</td>\n",
       "      <td>-0.003443</td>\n",
       "      <td>0.217705</td>\n",
       "      <td>0.827670</td>\n",
       "      <td>0.912140</td>\n",
       "      <td>1.0</td>\n",
       "    </tr>\n",
       "    <tr>\n",
       "      <th>1</th>\n",
       "      <td>ENSG00000268895_A1BG-AS1</td>\n",
       "      <td>4000</td>\n",
       "      <td>ENSG00000117091_CD48</td>\n",
       "      <td>ENSG00000268895_A1BG-AS1</td>\n",
       "      <td>-0.006397</td>\n",
       "      <td>0.404485</td>\n",
       "      <td>0.685877</td>\n",
       "      <td>0.829000</td>\n",
       "      <td>1.0</td>\n",
       "    </tr>\n",
       "    <tr>\n",
       "      <th>2</th>\n",
       "      <td>ENSG00000175899_A2M</td>\n",
       "      <td>4000</td>\n",
       "      <td>ENSG00000117091_CD48</td>\n",
       "      <td>ENSG00000175899_A2M</td>\n",
       "      <td>0.000813</td>\n",
       "      <td>0.051385</td>\n",
       "      <td>0.959021</td>\n",
       "      <td>0.981338</td>\n",
       "      <td>1.0</td>\n",
       "    </tr>\n",
       "    <tr>\n",
       "      <th>3</th>\n",
       "      <td>ENSG00000245105_A2M-AS1</td>\n",
       "      <td>4000</td>\n",
       "      <td>ENSG00000117091_CD48</td>\n",
       "      <td>ENSG00000245105_A2M-AS1</td>\n",
       "      <td>-0.009373</td>\n",
       "      <td>0.592686</td>\n",
       "      <td>0.553425</td>\n",
       "      <td>0.735474</td>\n",
       "      <td>1.0</td>\n",
       "    </tr>\n",
       "    <tr>\n",
       "      <th>4</th>\n",
       "      <td>ENSG00000166535_A2ML1</td>\n",
       "      <td>4000</td>\n",
       "      <td>ENSG00000117091_CD48</td>\n",
       "      <td>ENSG00000166535_A2ML1</td>\n",
       "      <td>NaN</td>\n",
       "      <td>NaN</td>\n",
       "      <td>NaN</td>\n",
       "      <td>NaN</td>\n",
       "      <td>NaN</td>\n",
       "    </tr>\n",
       "  </tbody>\n",
       "</table>\n",
       "</div>"
      ],
      "text/plain": [
       "                 Unnamed: 0  sample_size                  RNA1  \\\n",
       "0      ENSG00000121410_A1BG         4000  ENSG00000117091_CD48   \n",
       "1  ENSG00000268895_A1BG-AS1         4000  ENSG00000117091_CD48   \n",
       "2       ENSG00000175899_A2M         4000  ENSG00000117091_CD48   \n",
       "3   ENSG00000245105_A2M-AS1         4000  ENSG00000117091_CD48   \n",
       "4     ENSG00000166535_A2ML1         4000  ENSG00000117091_CD48   \n",
       "\n",
       "                       RNA2  corr.coeff   t_stats   p.value  BH_p.value  \\\n",
       "0      ENSG00000121410_A1BG   -0.003443  0.217705  0.827670    0.912140   \n",
       "1  ENSG00000268895_A1BG-AS1   -0.006397  0.404485  0.685877    0.829000   \n",
       "2       ENSG00000175899_A2M    0.000813  0.051385  0.959021    0.981338   \n",
       "3   ENSG00000245105_A2M-AS1   -0.009373  0.592686  0.553425    0.735474   \n",
       "4     ENSG00000166535_A2ML1         NaN       NaN       NaN         NaN   \n",
       "\n",
       "   Bonf_p.value  \n",
       "0           1.0  \n",
       "1           1.0  \n",
       "2           1.0  \n",
       "3           1.0  \n",
       "4           NaN  "
      ]
     },
     "execution_count": 81,
     "metadata": {},
     "output_type": "execute_result"
    }
   ],
   "source": [
    "import pandas as pd\n",
    "df = pd.read_csv(source_file,config_data['inbound_delimiter'])\n",
    "df.head()"
   ]
  },
  {
   "cell_type": "code",
   "execution_count": 82,
   "id": "9271bf1f",
   "metadata": {},
   "outputs": [
    {
     "name": "stdout",
     "output_type": "stream",
     "text": [
      "column name and column length validation failed\n",
      "Following File columns are not in the YAML file ['Unnamed: 0', 'BH_p.value', 'p.value', 'corr.coeff', 'Bonf_p.value']\n",
      "Following YAML columns are not in the file uploaded ['unnamed_1', 'p_value', 'unnamed_0', 'bh_p_value', 'bonf_p_value', 'corr_coeff']\n"
     ]
    },
    {
     "data": {
      "text/plain": [
       "0"
      ]
     },
     "execution_count": 82,
     "metadata": {},
     "output_type": "execute_result"
    }
   ],
   "source": [
    "def matching(df,config_data):\n",
    "    expected_col = list(config_data['columns'])\n",
    "    if len(df.columns) == len(expected_col) and list(expected_col) == list(df.columns):\n",
    "        print(\"column name and column length validation passed\")\n",
    "        return 1\n",
    "    else:\n",
    "        print(\"column name and column length validation failed\")\n",
    "        mismatched_columns_file = list(set(df.columns).difference(expected_col))\n",
    "        print(\"Following File columns are not in the YAML file\",mismatched_columns_file)\n",
    "        missing_YAML_file = list(set(expected_col).difference(df.columns))\n",
    "        print(\"Following YAML columns are not in the file uploaded\",missing_YAML_file)\n",
    "        logging.info(f'df columns: {df.columns}')\n",
    "        logging.info(f'expected columns: {expected_col}')\n",
    "        return 0\n",
    "#validate the header of the file\n",
    "matching(df,config_data)"
   ]
  },
  {
   "cell_type": "code",
   "execution_count": 74,
   "id": "e66bd671",
   "metadata": {},
   "outputs": [
    {
     "name": "stdout",
     "output_type": "stream",
     "text": [
      "columns of files are: Index(['Unnamed: 0', 'sample_size', 'RNA1', 'RNA2', 'corr.coeff', 't_stats',\n",
      "       'p.value', 'BH_p.value', 'Bonf_p.value'],\n",
      "      dtype='object')\n",
      "columns of YAML are: ['unnamed_0', 'unnamed_1', 'sample_size', 'rna1', 'rna2', 'corr_coeff', 't_stats', 'p_value', 'bh_p_value', 'bonf_p_value']\n"
     ]
    }
   ],
   "source": [
    "print(\"columns of files are:\" ,df.columns)\n",
    "print(\"columns of YAML are:\" ,config_data['columns'])"
   ]
  },
  {
   "cell_type": "code",
   "execution_count": 83,
   "id": "9eea4799",
   "metadata": {},
   "outputs": [
    {
     "name": "stdout",
     "output_type": "stream",
     "text": [
      "column name and column length validation failed\n",
      "Following File columns are not in the YAML file ['Unnamed: 0', 'BH_p.value', 'p.value', 'corr.coeff', 'Bonf_p.value']\n",
      "Following YAML columns are not in the file uploaded ['unnamed_1', 'p_value', 'unnamed_0', 'bh_p_value', 'bonf_p_value', 'corr_coeff']\n",
      "validation failed\n"
     ]
    }
   ],
   "source": [
    "if matching(df,config_data)==0:\n",
    "    print(\"validation failed\")\n",
    "else:\n",
    "    print(\"col validation passed\")"
   ]
  },
  {
   "cell_type": "code",
   "execution_count": 84,
   "id": "eb266362",
   "metadata": {},
   "outputs": [
    {
     "name": "stderr",
     "output_type": "stream",
     "text": [
      "/Users/meghnaijjapureddy/anaconda3/lib/python3.10/site-packages/dask/dataframe/io/csv.py:771: FutureWarning: the 'line_terminator'' keyword is deprecated, use 'lineterminator' instead.\n",
      "  df.to_csv(f, **kwargs)\n",
      "/Users/meghnaijjapureddy/anaconda3/lib/python3.10/site-packages/dask/dataframe/io/csv.py:771: FutureWarning: the 'line_terminator'' keyword is deprecated, use 'lineterminator' instead.\n",
      "  df.to_csv(f, **kwargs)\n",
      "/Users/meghnaijjapureddy/anaconda3/lib/python3.10/site-packages/dask/dataframe/io/csv.py:771: FutureWarning: the 'line_terminator'' keyword is deprecated, use 'lineterminator' instead.\n",
      "  df.to_csv(f, **kwargs)\n",
      "/Users/meghnaijjapureddy/anaconda3/lib/python3.10/site-packages/dask/dataframe/io/csv.py:771: FutureWarning: the 'line_terminator'' keyword is deprecated, use 'lineterminator' instead.\n",
      "  df.to_csv(f, **kwargs)\n",
      "/Users/meghnaijjapureddy/anaconda3/lib/python3.10/site-packages/dask/dataframe/io/csv.py:771: FutureWarning: the 'line_terminator'' keyword is deprecated, use 'lineterminator' instead.\n",
      "  df.to_csv(f, **kwargs)\n",
      "/Users/meghnaijjapureddy/anaconda3/lib/python3.10/site-packages/dask/dataframe/io/csv.py:771: FutureWarning: the 'line_terminator'' keyword is deprecated, use 'lineterminator' instead.\n",
      "  df.to_csv(f, **kwargs)\n",
      "/Users/meghnaijjapureddy/anaconda3/lib/python3.10/site-packages/dask/dataframe/io/csv.py:771: FutureWarning: the 'line_terminator'' keyword is deprecated, use 'lineterminator' instead.\n",
      "  df.to_csv(f, **kwargs)\n",
      "/Users/meghnaijjapureddy/anaconda3/lib/python3.10/site-packages/dask/dataframe/io/csv.py:771: FutureWarning: the 'line_terminator'' keyword is deprecated, use 'lineterminator' instead.\n",
      "  df.to_csv(f, **kwargs)\n",
      "/Users/meghnaijjapureddy/anaconda3/lib/python3.10/site-packages/dask/dataframe/io/csv.py:771: FutureWarning: the 'line_terminator'' keyword is deprecated, use 'lineterminator' instead.\n",
      "  df.to_csv(f, **kwargs)\n",
      "/Users/meghnaijjapureddy/anaconda3/lib/python3.10/site-packages/dask/dataframe/io/csv.py:771: FutureWarning: the 'line_terminator'' keyword is deprecated, use 'lineterminator' instead.\n",
      "  df.to_csv(f, **kwargs)\n",
      "/Users/meghnaijjapureddy/anaconda3/lib/python3.10/site-packages/dask/dataframe/io/csv.py:771: FutureWarning: the 'line_terminator'' keyword is deprecated, use 'lineterminator' instead.\n",
      "  df.to_csv(f, **kwargs)\n",
      "/Users/meghnaijjapureddy/anaconda3/lib/python3.10/site-packages/dask/dataframe/io/csv.py:771: FutureWarning: the 'line_terminator'' keyword is deprecated, use 'lineterminator' instead.\n",
      "  df.to_csv(f, **kwargs)\n",
      "/Users/meghnaijjapureddy/anaconda3/lib/python3.10/site-packages/dask/dataframe/io/csv.py:771: FutureWarning: the 'line_terminator'' keyword is deprecated, use 'lineterminator' instead.\n",
      "  df.to_csv(f, **kwargs)\n",
      "/Users/meghnaijjapureddy/anaconda3/lib/python3.10/site-packages/dask/dataframe/io/csv.py:771: FutureWarning: the 'line_terminator'' keyword is deprecated, use 'lineterminator' instead.\n",
      "  df.to_csv(f, **kwargs)\n",
      "/Users/meghnaijjapureddy/anaconda3/lib/python3.10/site-packages/dask/dataframe/io/csv.py:771: FutureWarning: the 'line_terminator'' keyword is deprecated, use 'lineterminator' instead.\n",
      "  df.to_csv(f, **kwargs)\n",
      "/Users/meghnaijjapureddy/anaconda3/lib/python3.10/site-packages/dask/dataframe/io/csv.py:771: FutureWarning: the 'line_terminator'' keyword is deprecated, use 'lineterminator' instead.\n",
      "  df.to_csv(f, **kwargs)\n",
      "/Users/meghnaijjapureddy/anaconda3/lib/python3.10/site-packages/dask/dataframe/io/csv.py:771: FutureWarning: the 'line_terminator'' keyword is deprecated, use 'lineterminator' instead.\n",
      "  df.to_csv(f, **kwargs)\n",
      "/Users/meghnaijjapureddy/anaconda3/lib/python3.10/site-packages/dask/dataframe/io/csv.py:771: FutureWarning: the 'line_terminator'' keyword is deprecated, use 'lineterminator' instead.\n",
      "  df.to_csv(f, **kwargs)\n",
      "/Users/meghnaijjapureddy/anaconda3/lib/python3.10/site-packages/dask/dataframe/io/csv.py:771: FutureWarning: the 'line_terminator'' keyword is deprecated, use 'lineterminator' instead.\n",
      "  df.to_csv(f, **kwargs)\n",
      "/Users/meghnaijjapureddy/anaconda3/lib/python3.10/site-packages/dask/dataframe/io/csv.py:771: FutureWarning: the 'line_terminator'' keyword is deprecated, use 'lineterminator' instead.\n",
      "  df.to_csv(f, **kwargs)\n",
      "/Users/meghnaijjapureddy/anaconda3/lib/python3.10/site-packages/dask/dataframe/io/csv.py:771: FutureWarning: the 'line_terminator'' keyword is deprecated, use 'lineterminator' instead.\n",
      "  df.to_csv(f, **kwargs)\n",
      "/Users/meghnaijjapureddy/anaconda3/lib/python3.10/site-packages/dask/dataframe/io/csv.py:771: FutureWarning: the 'line_terminator'' keyword is deprecated, use 'lineterminator' instead.\n",
      "  df.to_csv(f, **kwargs)\n",
      "/Users/meghnaijjapureddy/anaconda3/lib/python3.10/site-packages/dask/dataframe/io/csv.py:771: FutureWarning: the 'line_terminator'' keyword is deprecated, use 'lineterminator' instead.\n",
      "  df.to_csv(f, **kwargs)\n",
      "/Users/meghnaijjapureddy/anaconda3/lib/python3.10/site-packages/dask/dataframe/io/csv.py:771: FutureWarning: the 'line_terminator'' keyword is deprecated, use 'lineterminator' instead.\n",
      "  df.to_csv(f, **kwargs)\n",
      "/Users/meghnaijjapureddy/anaconda3/lib/python3.10/site-packages/dask/dataframe/io/csv.py:771: FutureWarning: the 'line_terminator'' keyword is deprecated, use 'lineterminator' instead.\n",
      "  df.to_csv(f, **kwargs)\n",
      "/Users/meghnaijjapureddy/anaconda3/lib/python3.10/site-packages/dask/dataframe/io/csv.py:771: FutureWarning: the 'line_terminator'' keyword is deprecated, use 'lineterminator' instead.\n",
      "  df.to_csv(f, **kwargs)\n",
      "/Users/meghnaijjapureddy/anaconda3/lib/python3.10/site-packages/dask/dataframe/io/csv.py:771: FutureWarning: the 'line_terminator'' keyword is deprecated, use 'lineterminator' instead.\n",
      "  df.to_csv(f, **kwargs)\n"
     ]
    },
    {
     "data": {
      "text/plain": [
       "['/Users/meghnaijjapureddy/allRNA_112RNA_corr_by6ss.csv.gz/00.part',\n",
       " '/Users/meghnaijjapureddy/allRNA_112RNA_corr_by6ss.csv.gz/01.part',\n",
       " '/Users/meghnaijjapureddy/allRNA_112RNA_corr_by6ss.csv.gz/02.part',\n",
       " '/Users/meghnaijjapureddy/allRNA_112RNA_corr_by6ss.csv.gz/03.part',\n",
       " '/Users/meghnaijjapureddy/allRNA_112RNA_corr_by6ss.csv.gz/04.part',\n",
       " '/Users/meghnaijjapureddy/allRNA_112RNA_corr_by6ss.csv.gz/05.part',\n",
       " '/Users/meghnaijjapureddy/allRNA_112RNA_corr_by6ss.csv.gz/06.part',\n",
       " '/Users/meghnaijjapureddy/allRNA_112RNA_corr_by6ss.csv.gz/07.part',\n",
       " '/Users/meghnaijjapureddy/allRNA_112RNA_corr_by6ss.csv.gz/08.part',\n",
       " '/Users/meghnaijjapureddy/allRNA_112RNA_corr_by6ss.csv.gz/09.part',\n",
       " '/Users/meghnaijjapureddy/allRNA_112RNA_corr_by6ss.csv.gz/10.part',\n",
       " '/Users/meghnaijjapureddy/allRNA_112RNA_corr_by6ss.csv.gz/11.part',\n",
       " '/Users/meghnaijjapureddy/allRNA_112RNA_corr_by6ss.csv.gz/12.part',\n",
       " '/Users/meghnaijjapureddy/allRNA_112RNA_corr_by6ss.csv.gz/13.part',\n",
       " '/Users/meghnaijjapureddy/allRNA_112RNA_corr_by6ss.csv.gz/14.part',\n",
       " '/Users/meghnaijjapureddy/allRNA_112RNA_corr_by6ss.csv.gz/15.part',\n",
       " '/Users/meghnaijjapureddy/allRNA_112RNA_corr_by6ss.csv.gz/16.part',\n",
       " '/Users/meghnaijjapureddy/allRNA_112RNA_corr_by6ss.csv.gz/17.part',\n",
       " '/Users/meghnaijjapureddy/allRNA_112RNA_corr_by6ss.csv.gz/18.part',\n",
       " '/Users/meghnaijjapureddy/allRNA_112RNA_corr_by6ss.csv.gz/19.part',\n",
       " '/Users/meghnaijjapureddy/allRNA_112RNA_corr_by6ss.csv.gz/20.part',\n",
       " '/Users/meghnaijjapureddy/allRNA_112RNA_corr_by6ss.csv.gz/21.part',\n",
       " '/Users/meghnaijjapureddy/allRNA_112RNA_corr_by6ss.csv.gz/22.part',\n",
       " '/Users/meghnaijjapureddy/allRNA_112RNA_corr_by6ss.csv.gz/23.part',\n",
       " '/Users/meghnaijjapureddy/allRNA_112RNA_corr_by6ss.csv.gz/24.part',\n",
       " '/Users/meghnaijjapureddy/allRNA_112RNA_corr_by6ss.csv.gz/25.part',\n",
       " '/Users/meghnaijjapureddy/allRNA_112RNA_corr_by6ss.csv.gz/26.part',\n",
       " '/Users/meghnaijjapureddy/allRNA_112RNA_corr_by6ss.csv.gz/27.part',\n",
       " '/Users/meghnaijjapureddy/allRNA_112RNA_corr_by6ss.csv.gz/28.part',\n",
       " '/Users/meghnaijjapureddy/allRNA_112RNA_corr_by6ss.csv.gz/29.part',\n",
       " '/Users/meghnaijjapureddy/allRNA_112RNA_corr_by6ss.csv.gz/30.part',\n",
       " '/Users/meghnaijjapureddy/allRNA_112RNA_corr_by6ss.csv.gz/31.part',\n",
       " '/Users/meghnaijjapureddy/allRNA_112RNA_corr_by6ss.csv.gz/32.part',\n",
       " '/Users/meghnaijjapureddy/allRNA_112RNA_corr_by6ss.csv.gz/33.part',\n",
       " '/Users/meghnaijjapureddy/allRNA_112RNA_corr_by6ss.csv.gz/34.part',\n",
       " '/Users/meghnaijjapureddy/allRNA_112RNA_corr_by6ss.csv.gz/35.part']"
      ]
     },
     "execution_count": 84,
     "metadata": {},
     "output_type": "execute_result"
    }
   ],
   "source": [
    "import datetime\n",
    "import csv\n",
    "import gzip\n",
    "\n",
    "from dask import dataframe as dd\n",
    "df = dd.read_csv('/Users/meghnaijjapureddy/Downloads/archive (6)/allRNA_112RNA_corr_by6ss.csv',delimiter=',')\n",
    "\n",
    "# Write csv in gz format in pipe separated text file (|)\n",
    "df.to_csv('allRNA_112RNA_corr_by6ss.csv.gz',\n",
    "          sep='|',\n",
    "          header=True,\n",
    "          index=False,\n",
    "          quoting=csv.QUOTE_ALL,\n",
    "          compression='gzip',\n",
    "          quotechar='\"',\n",
    "          doublequote=True,\n",
    "          line_terminator='\\n')"
   ]
  },
  {
   "cell_type": "code",
   "execution_count": 91,
   "id": "7eafc582",
   "metadata": {},
   "outputs": [
    {
     "name": "stdout",
     "output_type": "stream",
     "text": [
      "Prot-prot_corr_all.csv\n",
      "Prot-RNA_corr_13gr.csv\n",
      "Prot-RNA_corr_all.csv\n",
      "allRNA_RNA_corr.h5\n",
      "allRNA_RNA_corr.RDS\n",
      "allRNA_112RNA_corr_by6ss.RDS\n",
      "Prot-RNA_corr_21gr.csv\n",
      "allRNA_112RNA_corr.csv\n",
      "Prot-RNA_corr_63gr.csv\n",
      "allRNA_112RNA_corr_by6ss.csv\n",
      "Prot-prot_corr_13gr.csv\n"
     ]
    }
   ],
   "source": [
    "#number of files in gz format folder\n",
    "import os\n",
    "entries = os.listdir('/Users/meghnaijjapureddy/Downloads/archive (6)/')\n",
    "for entry in entries:\n",
    "    print(entry)"
   ]
  },
  {
   "cell_type": "code",
   "execution_count": 92,
   "id": "e90c03c9",
   "metadata": {},
   "outputs": [],
   "source": [
    "import os\n",
    "\n",
    "directory = '/Users/meghnaijjapureddy/Downloads/archive (6)/'\n",
    "entries = os.listdir(directory)\n",
    "\n",
    "for entry in entries:\n",
    "    if entry.endswith('.gz'):\n",
    "        print(entry)\n"
   ]
  },
  {
   "cell_type": "code",
   "execution_count": 88,
   "id": "69f78be8",
   "metadata": {},
   "outputs": [
    {
     "data": {
      "text/plain": [
       "1216"
      ]
     },
     "execution_count": 88,
     "metadata": {},
     "output_type": "execute_result"
    }
   ],
   "source": [
    "#size of the gz format folder\n",
    "os.path.getsize('allRNA_112RNA_corr_by6ss.csv.gz')"
   ]
  },
  {
   "cell_type": "code",
   "execution_count": null,
   "id": "1a3bd2a1",
   "metadata": {},
   "outputs": [],
   "source": []
  }
 ],
 "metadata": {
  "kernelspec": {
   "display_name": "Python 3 (ipykernel)",
   "language": "python",
   "name": "python3"
  },
  "language_info": {
   "codemirror_mode": {
    "name": "ipython",
    "version": 3
   },
   "file_extension": ".py",
   "mimetype": "text/x-python",
   "name": "python",
   "nbconvert_exporter": "python",
   "pygments_lexer": "ipython3",
   "version": "3.10.9"
  }
 },
 "nbformat": 4,
 "nbformat_minor": 5
}
