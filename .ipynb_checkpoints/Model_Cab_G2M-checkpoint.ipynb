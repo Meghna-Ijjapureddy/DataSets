{
 "cells": [
  {
   "cell_type": "code",
   "execution_count": 37,
   "id": "cbf69084",
   "metadata": {},
   "outputs": [],
   "source": [
    "import pandas as pd\n",
    "import numpy as np\n",
    "import matplotlib.pyplot as plt\n",
    "import seaborn as sns\n",
    "import datetime\n",
    "%matplotlib inline\n",
    "from sklearn.linear_model import LinearRegression\n",
    "from sklearn.model_selection import train_test_split"
   ]
  },
  {
   "cell_type": "code",
   "execution_count": 38,
   "id": "d7c22f15",
   "metadata": {},
   "outputs": [],
   "source": [
    "# Reading the CSV files (data sets)\n",
    "\n",
    "cab_data_df = pd.read_csv(\"Cab_Data.csv\")\n",
    "City_data_df = pd.read_csv(\"City.csv\")\n",
    "customer_df = pd.read_csv(\"Customer_ID.csv\")\n",
    "transaction_df = pd.read_csv(\"Transaction_ID.csv\")"
   ]
  },
  {
   "cell_type": "code",
   "execution_count": 39,
   "id": "066e8cf8",
   "metadata": {},
   "outputs": [
    {
     "data": {
      "text/html": [
       "<div>\n",
       "<style scoped>\n",
       "    .dataframe tbody tr th:only-of-type {\n",
       "        vertical-align: middle;\n",
       "    }\n",
       "\n",
       "    .dataframe tbody tr th {\n",
       "        vertical-align: top;\n",
       "    }\n",
       "\n",
       "    .dataframe thead th {\n",
       "        text-align: right;\n",
       "    }\n",
       "</style>\n",
       "<table border=\"1\" class=\"dataframe\">\n",
       "  <thead>\n",
       "    <tr style=\"text-align: right;\">\n",
       "      <th></th>\n",
       "      <th>Transaction ID</th>\n",
       "      <th>Date of Travel</th>\n",
       "      <th>Company</th>\n",
       "      <th>City</th>\n",
       "      <th>KM Travelled</th>\n",
       "      <th>Price Charged</th>\n",
       "      <th>Cost of Trip</th>\n",
       "      <th>Customer ID</th>\n",
       "      <th>Payment_Mode</th>\n",
       "      <th>Gender</th>\n",
       "      <th>Age</th>\n",
       "      <th>Income (USD/Month)</th>\n",
       "      <th>Population</th>\n",
       "      <th>Users</th>\n",
       "      <th>Profit</th>\n",
       "    </tr>\n",
       "  </thead>\n",
       "  <tbody>\n",
       "    <tr>\n",
       "      <th>0</th>\n",
       "      <td>10000011</td>\n",
       "      <td>2016-01-08</td>\n",
       "      <td>Pink Cab</td>\n",
       "      <td>ATLANTA GA</td>\n",
       "      <td>30.45</td>\n",
       "      <td>370.95</td>\n",
       "      <td>313.6350</td>\n",
       "      <td>29290</td>\n",
       "      <td>Card</td>\n",
       "      <td>Male</td>\n",
       "      <td>28</td>\n",
       "      <td>10813</td>\n",
       "      <td>814,885</td>\n",
       "      <td>24,701</td>\n",
       "      <td>57.3150</td>\n",
       "    </tr>\n",
       "    <tr>\n",
       "      <th>1</th>\n",
       "      <td>10351127</td>\n",
       "      <td>2018-07-21</td>\n",
       "      <td>Yellow Cab</td>\n",
       "      <td>ATLANTA GA</td>\n",
       "      <td>26.19</td>\n",
       "      <td>598.70</td>\n",
       "      <td>317.4228</td>\n",
       "      <td>29290</td>\n",
       "      <td>Cash</td>\n",
       "      <td>Male</td>\n",
       "      <td>28</td>\n",
       "      <td>10813</td>\n",
       "      <td>814,885</td>\n",
       "      <td>24,701</td>\n",
       "      <td>281.2772</td>\n",
       "    </tr>\n",
       "    <tr>\n",
       "      <th>2</th>\n",
       "      <td>10412921</td>\n",
       "      <td>2018-11-23</td>\n",
       "      <td>Yellow Cab</td>\n",
       "      <td>ATLANTA GA</td>\n",
       "      <td>42.55</td>\n",
       "      <td>792.05</td>\n",
       "      <td>597.4020</td>\n",
       "      <td>29290</td>\n",
       "      <td>Card</td>\n",
       "      <td>Male</td>\n",
       "      <td>28</td>\n",
       "      <td>10813</td>\n",
       "      <td>814,885</td>\n",
       "      <td>24,701</td>\n",
       "      <td>194.6480</td>\n",
       "    </tr>\n",
       "    <tr>\n",
       "      <th>3</th>\n",
       "      <td>10000012</td>\n",
       "      <td>2016-01-06</td>\n",
       "      <td>Pink Cab</td>\n",
       "      <td>ATLANTA GA</td>\n",
       "      <td>28.62</td>\n",
       "      <td>358.52</td>\n",
       "      <td>334.8540</td>\n",
       "      <td>27703</td>\n",
       "      <td>Card</td>\n",
       "      <td>Male</td>\n",
       "      <td>27</td>\n",
       "      <td>9237</td>\n",
       "      <td>814,885</td>\n",
       "      <td>24,701</td>\n",
       "      <td>23.6660</td>\n",
       "    </tr>\n",
       "    <tr>\n",
       "      <th>4</th>\n",
       "      <td>10320494</td>\n",
       "      <td>2018-04-21</td>\n",
       "      <td>Yellow Cab</td>\n",
       "      <td>ATLANTA GA</td>\n",
       "      <td>36.38</td>\n",
       "      <td>721.10</td>\n",
       "      <td>467.1192</td>\n",
       "      <td>27703</td>\n",
       "      <td>Card</td>\n",
       "      <td>Male</td>\n",
       "      <td>27</td>\n",
       "      <td>9237</td>\n",
       "      <td>814,885</td>\n",
       "      <td>24,701</td>\n",
       "      <td>253.9808</td>\n",
       "    </tr>\n",
       "  </tbody>\n",
       "</table>\n",
       "</div>"
      ],
      "text/plain": [
       "   Transaction ID Date of Travel     Company        City  KM Travelled  \\\n",
       "0        10000011     2016-01-08    Pink Cab  ATLANTA GA         30.45   \n",
       "1        10351127     2018-07-21  Yellow Cab  ATLANTA GA         26.19   \n",
       "2        10412921     2018-11-23  Yellow Cab  ATLANTA GA         42.55   \n",
       "3        10000012     2016-01-06    Pink Cab  ATLANTA GA         28.62   \n",
       "4        10320494     2018-04-21  Yellow Cab  ATLANTA GA         36.38   \n",
       "\n",
       "   Price Charged  Cost of Trip  Customer ID Payment_Mode Gender  Age  \\\n",
       "0         370.95      313.6350        29290         Card   Male   28   \n",
       "1         598.70      317.4228        29290         Cash   Male   28   \n",
       "2         792.05      597.4020        29290         Card   Male   28   \n",
       "3         358.52      334.8540        27703         Card   Male   27   \n",
       "4         721.10      467.1192        27703         Card   Male   27   \n",
       "\n",
       "   Income (USD/Month) Population     Users    Profit  \n",
       "0               10813   814,885    24,701    57.3150  \n",
       "1               10813   814,885    24,701   281.2772  \n",
       "2               10813   814,885    24,701   194.6480  \n",
       "3                9237   814,885    24,701    23.6660  \n",
       "4                9237   814,885    24,701   253.9808  "
      ]
     },
     "execution_count": 39,
     "metadata": {},
     "output_type": "execute_result"
    }
   ],
   "source": [
    "# Merging the data for better visualisation\n",
    "\n",
    "Merge1 = pd.merge(cab_data_df, transaction_df, on = \"Transaction ID\")\n",
    "Merge2 = pd.merge(Merge1, customer_df, on = \"Customer ID\")\n",
    "Merge3 = pd.merge(Merge2, City_data_df, on = \"City\")\n",
    "Merge3[\"Profit\"] = Merge3[\"Price Charged\"]-Merge3[\"Cost of Trip\"]\n",
    "Merge3['Date of Travel'] = pd.to_datetime(Merge3['Date of Travel'], unit = 'd', origin = '1899-12-30')\n",
    "Merge3.head()"
   ]
  },
  {
   "cell_type": "code",
   "execution_count": 40,
   "id": "f21d4485",
   "metadata": {},
   "outputs": [
    {
     "data": {
      "text/html": [
       "<div>\n",
       "<style scoped>\n",
       "    .dataframe tbody tr th:only-of-type {\n",
       "        vertical-align: middle;\n",
       "    }\n",
       "\n",
       "    .dataframe tbody tr th {\n",
       "        vertical-align: top;\n",
       "    }\n",
       "\n",
       "    .dataframe thead th {\n",
       "        text-align: right;\n",
       "    }\n",
       "</style>\n",
       "<table border=\"1\" class=\"dataframe\">\n",
       "  <thead>\n",
       "    <tr style=\"text-align: right;\">\n",
       "      <th></th>\n",
       "      <th>KM Travelled</th>\n",
       "      <th>Cost of Trip</th>\n",
       "      <th>Price Charged</th>\n",
       "    </tr>\n",
       "  </thead>\n",
       "  <tbody>\n",
       "    <tr>\n",
       "      <th>0</th>\n",
       "      <td>30.45</td>\n",
       "      <td>313.6350</td>\n",
       "      <td>370.95</td>\n",
       "    </tr>\n",
       "    <tr>\n",
       "      <th>1</th>\n",
       "      <td>26.19</td>\n",
       "      <td>317.4228</td>\n",
       "      <td>598.70</td>\n",
       "    </tr>\n",
       "    <tr>\n",
       "      <th>2</th>\n",
       "      <td>42.55</td>\n",
       "      <td>597.4020</td>\n",
       "      <td>792.05</td>\n",
       "    </tr>\n",
       "    <tr>\n",
       "      <th>3</th>\n",
       "      <td>28.62</td>\n",
       "      <td>334.8540</td>\n",
       "      <td>358.52</td>\n",
       "    </tr>\n",
       "    <tr>\n",
       "      <th>4</th>\n",
       "      <td>36.38</td>\n",
       "      <td>467.1192</td>\n",
       "      <td>721.10</td>\n",
       "    </tr>\n",
       "  </tbody>\n",
       "</table>\n",
       "</div>"
      ],
      "text/plain": [
       "   KM Travelled  Cost of Trip  Price Charged\n",
       "0         30.45      313.6350         370.95\n",
       "1         26.19      317.4228         598.70\n",
       "2         42.55      597.4020         792.05\n",
       "3         28.62      334.8540         358.52\n",
       "4         36.38      467.1192         721.10"
      ]
     },
     "execution_count": 40,
     "metadata": {},
     "output_type": "execute_result"
    }
   ],
   "source": [
    "x1 = Merge3.iloc[:,4] # KM Travelled\n",
    "x2 = Merge3.iloc[:,6] # Cost of the Trip\n",
    "y = Merge3.iloc[:,5] # Price Charged\n",
    "df = pd.DataFrame({\"KM Travelled\": Merge3[\"KM Travelled\"],\n",
    "                  \"Cost of Trip\":Merge3[\"Cost of Trip\"],\n",
    "                  \"Price Charged\":Merge3[\"Price Charged\"]})\n",
    "df.head()"
   ]
  },
  {
   "cell_type": "code",
   "execution_count": 41,
   "id": "d8d53dff",
   "metadata": {},
   "outputs": [],
   "source": [
    "x = df.iloc[:,[0,1]]\n",
    "y = df.iloc[:,2]"
   ]
  },
  {
   "cell_type": "code",
   "execution_count": 42,
   "id": "6b9108da",
   "metadata": {},
   "outputs": [
    {
     "data": {
      "text/plain": [
       "LinearRegression()"
      ]
     },
     "execution_count": 42,
     "metadata": {},
     "output_type": "execute_result"
    }
   ],
   "source": [
    "# Creating a model and fitting the model\n",
    "PriceCharged_model = LinearRegression()\n",
    "PriceCharged_model.fit(x,y)"
   ]
  },
  {
   "cell_type": "code",
   "execution_count": 43,
   "id": "64703a88",
   "metadata": {},
   "outputs": [
    {
     "name": "stdout",
     "output_type": "stream",
     "text": [
      "Training data: (269544, 2) (269544,)\n",
      "Test data: (89848, 2) (89848,)\n"
     ]
    }
   ],
   "source": [
    "# Training and Testing Samples\n",
    "X_train, X_test, y_train, y_test = train_test_split(x,y,test_size = 0.25)\n",
    "\n",
    "print (\"Training data:\",X_train.shape, y_train.shape)\n",
    "print (\"Test data:\",X_test.shape, y_test.shape)"
   ]
  },
  {
   "cell_type": "code",
   "execution_count": 47,
   "id": "a060373f",
   "metadata": {},
   "outputs": [
    {
     "name": "stdout",
     "output_type": "stream",
     "text": [
      "Score: 0.7421858395481754\n"
     ]
    }
   ],
   "source": [
    "# fit a model\n",
    "Predict_model = LinearRegression()\n",
    "PricePredict_model = Predict_model.fit(X_train, y_train)\n",
    "predictions = Predict_model.predict(X_test)\n",
    "\n",
    "print (\"Score:\", Predict_model.score(X_test, y_test))"
   ]
  },
  {
   "cell_type": "code",
   "execution_count": 51,
   "id": "0cd26382",
   "metadata": {},
   "outputs": [
    {
     "data": {
      "image/png": "[encoded data removed]",
      "text/plain": [
       "<Figure size 640x480 with 1 Axes>"
      ]
     },
     "metadata": {},
     "output_type": "display_data"
    }
   ],
   "source": [
    "plt.errorbar(range(len(predictions)),y_test, yerr = (y_test - predictions), fmt='.k', ecolor=\"red\");\n",
    "plt.title('Error Plot')\n",
    "plt.xlabel('Observation')\n",
    "plt.ylabel('Error (Actual - Predicted)')\n",
    "plt.show()\n"
   ]
  },
  {
   "cell_type": "code",
   "execution_count": null,
   "id": "6de2c447",
   "metadata": {},
   "outputs": [],
   "source": []
  }
 ],
 "metadata": {
  "kernelspec": {
   "display_name": "Python 3 (ipykernel)",
   "language": "python",
   "name": "python3"
  },
  "language_info": {
   "codemirror_mode": {
    "name": "ipython",
    "version": 3
   },
   "file_extension": ".py",
   "mimetype": "text/x-python",
   "name": "python",
   "nbconvert_exporter": "python",
   "pygments_lexer": "ipython3",
   "version": "3.9.13"
  }
 },
 "nbformat": 4,
 "nbformat_minor": 5
}
